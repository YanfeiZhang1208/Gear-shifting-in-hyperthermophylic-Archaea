{
 "cells": [
  {
   "cell_type": "markdown",
   "metadata": {},
   "source": [
    "# Set the environment"
   ]
  },
  {
   "cell_type": "code",
   "execution_count": 1,
   "metadata": {},
   "outputs": [],
   "source": [
    "# set the envoiroment\n",
    "import cobra\n",
    "from cobra import Model, Reaction, Metabolite\n",
    "from cobra.flux_analysis import flux_variability_analysis\n",
    "import pandas as pd\n",
    "import numpy as np\n",
    "import matplotlib.pyplot as plt\n",
    "import glob\n",
    "import escher\n",
    "from escher import Builder\n",
    "from utils import show_map\n",
    "from utils.check_precursor_problem import check_precursor_problem\n",
    "map_loc = \"../data/overallmap8.25.json\"\n",
    "map_loc1 = \"../data/Figure S2.json\" #Import the map that has been drawn using escher.\n",
    "map_loc2 = \"../data/map with methyxol.json\""
   ]
  },
  {
   "cell_type": "markdown",
   "metadata": {},
   "source": [
    "## load the model"
   ]
  },
  {
   "cell_type": "code",
   "execution_count": 2,
   "metadata": {},
   "outputs": [],
   "source": [
    "model = cobra.io.load_json_model(\"../models/updated_model.json\")# Import the model.\n",
    "model.solver = 'glpk'\n",
    "model.reactions.NGAM.bounds = (0,1000)\n",
    "model.objective = model.reactions.NGAM\n"
   ]
  },
  {
   "cell_type": "markdown",
   "metadata": {},
   "source": [
    "## PK"
   ]
  },
  {
   "cell_type": "markdown",
   "metadata": {},
   "source": [
    "### PGK and GAPDH pathway + PK + SoxM: Figure S2"
   ]
  },
  {
   "cell_type": "code",
   "execution_count": 3,
   "metadata": {},
   "outputs": [
    {
     "name": "stdout",
     "output_type": "stream",
     "text": [
      "ATP production flux: 7.999999999999994\n"
     ]
    },
    {
     "data": {
      "application/vnd.jupyter.widget-view+json": {
       "model_id": "37bfa962d5ff4cad8731a4c861965843",
       "version_major": 2,
       "version_minor": 0
      },
      "text/plain": [
       "Builder(hide_secondary_metabolites=False, highlight_missing=True, reaction_data={'Biomass': 0.0, 'Biomass__fuc…"
      ]
     },
     "metadata": {},
     "output_type": "display_data"
    }
   ],
   "source": [
    "M= model.copy()\n",
    "M.reactions.get_by_id(\"oxp_redox_1.10.3.13_soxABCD_TRANS__RXN__240\").bounds = (0,0)\n",
    "sol = M.optimize()\n",
    "print (\"ATP production flux:\", sol.fluxes.loc[\"NGAM\"])\n",
    "\n",
    "b = show_map(sol,map_loc1)\n",
    "b"
   ]
  },
  {
   "cell_type": "markdown",
   "metadata": {},
   "source": [
    "### PGK and GAPDH pathway + PK + SoxABCD"
   ]
  },
  {
   "cell_type": "code",
   "execution_count": 4,
   "metadata": {
    "scrolled": true
   },
   "outputs": [
    {
     "name": "stdout",
     "output_type": "stream",
     "text": [
      "ATP production flux: 13.999999999999993\n"
     ]
    },
    {
     "data": {
      "application/vnd.jupyter.widget-view+json": {
       "model_id": "73add96978824fa59e90cd163679c401",
       "version_major": 2,
       "version_minor": 0
      },
      "text/plain": [
       "Builder(hide_secondary_metabolites=False, highlight_missing=True, reaction_data={'Biomass': 0.0, 'Biomass__fuc…"
      ]
     },
     "metadata": {},
     "output_type": "display_data"
    }
   ],
   "source": [
    "M= model.copy()\n",
    "sol = M.optimize()\n",
    "print (\"ATP production flux:\", sol.fluxes.loc[\"NGAM\"])\n",
    "b = show_map(sol,map_loc)\n",
    "b"
   ]
  },
  {
   "cell_type": "code",
   "execution_count": 5,
   "metadata": {},
   "outputs": [],
   "source": [
    "model.reactions.get_by_id('cof_sulfopterin_6.3.4.3_FORMATETHFLIG__RXN').bounds = (0,0)"
   ]
  },
  {
   "cell_type": "markdown",
   "metadata": {},
   "source": [
    "### PGK and GAPDH pathway + PK + SoxM"
   ]
  },
  {
   "cell_type": "code",
   "execution_count": 6,
   "metadata": {
    "scrolled": true
   },
   "outputs": [
    {
     "name": "stdout",
     "output_type": "stream",
     "text": [
      "ATP production flux: 7.999999999999991\n"
     ]
    },
    {
     "data": {
      "application/vnd.jupyter.widget-view+json": {
       "model_id": "834293309b854d62981d9b9772a9c0c3",
       "version_major": 2,
       "version_minor": 0
      },
      "text/plain": [
       "Builder(hide_secondary_metabolites=False, highlight_missing=True, reaction_data={'Biomass': 0.0, 'Biomass__fuc…"
      ]
     },
     "metadata": {},
     "output_type": "display_data"
    }
   ],
   "source": [
    "M= model.copy()\n",
    "M.reactions.get_by_id(\"oxp_redox_1.10.3.13_soxABCD_TRANS__RXN__240\").bounds = (0,0)\n",
    "sol = M.optimize()\n",
    "print (\"ATP production flux:\", sol.fluxes.loc[\"NGAM\"])\n",
    "b = show_map(sol,map_loc)\n",
    "b"
   ]
  },
  {
   "cell_type": "markdown",
   "metadata": {},
   "source": [
    "### Sox ABCD + Non-phosphorylation pathway after blocking the reactions for KDGK\n",
    "    - There are two reactions for KDGK enzyme, after making the bounds to 0, the \n",
    "    non-phosphorylation pathway will be used. \n",
    "    \n",
    "    - In the figure we can see that GAPDH reactions will also be used, the reason for this is the NADPH produced in the GK reaction need to be changed to NADH, and these reactions are used for recycling of NADPH. "
   ]
  },
  {
   "cell_type": "code",
   "execution_count": 7,
   "metadata": {},
   "outputs": [
    {
     "name": "stdout",
     "output_type": "stream",
     "text": [
      "ATP production flux: 13.000000000000004\n"
     ]
    },
    {
     "data": {
      "application/vnd.jupyter.widget-view+json": {
       "model_id": "cd070febbcb94134b968359c08192575",
       "version_major": 2,
       "version_minor": 0
      },
      "text/plain": [
       "Builder(hide_secondary_metabolites=False, highlight_missing=True, reaction_data={'Biomass': 0.0, 'Biomass__fuc…"
      ]
     },
     "metadata": {},
     "output_type": "display_data"
    }
   ],
   "source": [
    "M= model.copy()\n",
    "# The following two reactions are the ones for KDGK reactions\n",
    "M.reactions.get_by_id('carb_entner_2.7.1.178_DEHYDDEOXGALACTKIN__RXN').bounds = (0,0)\n",
    "M.reactions.get_by_id('carb_entner_2.7.1.178_DEOXYGLUCONOKIN__RXN').bounds = (0,0)\n",
    "M.reactions.get_by_id('carb_enter_glucneo_2.7.2.3_PHOSGLYPHOS__RXN').bounds = (0,0)\n",
    "\n",
    "sol = M.optimize()\n",
    "print (\"ATP production flux:\", sol.fluxes.loc[\"NGAM\"])\n",
    "b = show_map(sol,map_loc)\n",
    "b"
   ]
  },
  {
   "cell_type": "markdown",
   "metadata": {},
   "source": [
    "### Sox M + Non-phosphorylation pathway after blocking the reactions for KDGK\n",
    "    - There are two reactions for KDGK enzyme, after making the bounds to 0, the \n",
    "    non-phosphorylation pathway will be used. \n",
    "    \n",
    "    - In the figure we can see that GAPDH reactions will also be used, the reason for this is the NADPH produced in the GK reaction need to be changed to NADH, and these reactions are used for recycling of NADPH. "
   ]
  },
  {
   "cell_type": "code",
   "execution_count": 8,
   "metadata": {},
   "outputs": [
    {
     "name": "stdout",
     "output_type": "stream",
     "text": [
      "ATP production flux: 7.000000000000011\n"
     ]
    },
    {
     "data": {
      "application/vnd.jupyter.widget-view+json": {
       "model_id": "6bf58c8dc6e04745a954bac0acc19779",
       "version_major": 2,
       "version_minor": 0
      },
      "text/plain": [
       "Builder(hide_secondary_metabolites=False, highlight_missing=True, reaction_data={'Biomass': 0.0, 'Biomass__fuc…"
      ]
     },
     "metadata": {},
     "output_type": "display_data"
    }
   ],
   "source": [
    "M= model.copy()\n",
    "# The following two reactions are the ones for KDGK reactions\n",
    "M.reactions.get_by_id('carb_entner_2.7.1.178_DEHYDDEOXGALACTKIN__RXN').bounds = (0,0)\n",
    "M.reactions.get_by_id('carb_entner_2.7.1.178_DEOXYGLUCONOKIN__RXN').bounds = (0,0)\n",
    "M.reactions.get_by_id('carb_enter_glucneo_2.7.2.3_PHOSGLYPHOS__RXN').bounds = (0,0)\n",
    "M.reactions.get_by_id(\"oxp_redox_1.10.3.13_soxABCD_TRANS__RXN__240\").bounds = (0,0)\n",
    "\n",
    "sol = M.optimize()\n",
    "print (\"ATP production flux:\", sol.fluxes.loc[\"NGAM\"])\n",
    "b = show_map(sol,map_loc)\n",
    "b"
   ]
  },
  {
   "cell_type": "markdown",
   "metadata": {},
   "source": [
    "### SoxABCD + spontaneous degradation pathway after blocking the reaction for GK"
   ]
  },
  {
   "cell_type": "code",
   "execution_count": 9,
   "metadata": {},
   "outputs": [
    {
     "name": "stdout",
     "output_type": "stream",
     "text": [
      "ATP production flux: 13.000000000000018\n"
     ]
    },
    {
     "data": {
      "application/vnd.jupyter.widget-view+json": {
       "model_id": "371ca33d3f654fdf88c5bd5306a362b0",
       "version_major": 2,
       "version_minor": 0
      },
      "text/plain": [
       "Builder(hide_secondary_metabolites=False, highlight_missing=True, reaction_data={'Biomass': 0.0, 'Biomass__fuc…"
      ]
     },
     "metadata": {},
     "output_type": "display_data"
    }
   ],
   "source": [
    "M= model.copy()\n",
    "M.reactions.get_by_id('carb_enter_glucneo_2.7.2.3_PHOSGLYPHOS__RXN').bounds = (0,0)\n",
    "M.reactions.get_by_id('carb_entner_2.7.1.165_GKI__RXN').bounds = (0,0)\n",
    "\n",
    "sol = M.optimize()\n",
    "print (\"ATP production flux:\", sol.fluxes.loc[\"NGAM\"])\n",
    "b = show_map(sol,map_loc)\n",
    "b"
   ]
  },
  {
   "cell_type": "markdown",
   "metadata": {},
   "source": [
    "### SoxM + spontaneous degradation pathway after blocking the reaction for GK"
   ]
  },
  {
   "cell_type": "code",
   "execution_count": 10,
   "metadata": {},
   "outputs": [
    {
     "name": "stdout",
     "output_type": "stream",
     "text": [
      "ATP production flux: 7.000000000000007\n"
     ]
    },
    {
     "data": {
      "application/vnd.jupyter.widget-view+json": {
       "model_id": "3e27855f711d4d5c8e4768495882b917",
       "version_major": 2,
       "version_minor": 0
      },
      "text/plain": [
       "Builder(hide_secondary_metabolites=False, highlight_missing=True, reaction_data={'Biomass': 0.0, 'Biomass__fuc…"
      ]
     },
     "metadata": {},
     "output_type": "display_data"
    }
   ],
   "source": [
    "M= model.copy()\n",
    "M.reactions.get_by_id('carb_enter_glucneo_2.7.2.3_PHOSGLYPHOS__RXN').bounds = (0,0)\n",
    "M.reactions.get_by_id('carb_entner_2.7.1.165_GKI__RXN').bounds = (0,0)\n",
    "M.reactions.get_by_id(\"oxp_redox_1.10.3.13_soxABCD_TRANS__RXN__240\").bounds = (0,0)\n",
    "sol = M.optimize()\n",
    "l = sol.fluxes[abs(sol.fluxes)>1e-6].index\n",
    "print (\"ATP production flux:\", sol.fluxes.loc[\"NGAM\"])\n",
    "b = show_map(sol,map_loc)\n",
    "b"
   ]
  },
  {
   "cell_type": "markdown",
   "metadata": {},
   "source": [
    "### SoxABCD + GAPN pathway after blocking GKI, spondegradation for BPG.\n",
    "      - In the figure we can see that GAPDH reactions will also be used, the reason for this is the NADPH produced in the GAPN reaction need to be changed to NADH, and these reactions are used for recycling of NADPH. "
   ]
  },
  {
   "cell_type": "code",
   "execution_count": 11,
   "metadata": {},
   "outputs": [
    {
     "name": "stdout",
     "output_type": "stream",
     "text": [
      "ATP production flux: 13.000000000000002\n"
     ]
    },
    {
     "data": {
      "application/vnd.jupyter.widget-view+json": {
       "model_id": "118323d96e19463aa34d1d54d753b275",
       "version_major": 2,
       "version_minor": 0
      },
      "text/plain": [
       "Builder(hide_secondary_metabolites=False, highlight_missing=True, reaction_data={'Biomass': 0.0, 'Biomass__fuc…"
      ]
     },
     "metadata": {},
     "output_type": "display_data"
    }
   ],
   "source": [
    "M= model.copy()\n",
    "M.reactions.get_by_id('carb_entner_2.7.1.165_GKI__RXN').bounds = (0,0)\n",
    "M.reactions.get_by_id('other_no__pathway_3.6.1.7_BS165362').bounds = (0,0)\n",
    "M.reactions.get_by_id('carb_enter_glucneo_2.7.2.3_PHOSGLYPHOS__RXN').bounds = (0,0)\n",
    "\n",
    "sol = M.optimize()\n",
    "print (\"ATP production flux:\", sol.fluxes.loc[\"NGAM\"])\n",
    "b = show_map(sol,map_loc)\n",
    "b"
   ]
  },
  {
   "cell_type": "markdown",
   "metadata": {},
   "source": [
    "### SoxM + GAPN pathway after blocking GKI, spondegradation for BPG.\n",
    "      - In the figure we can see that GAPDH reactions will also be used, the reason for this is the NADPH produced in the GAPN reaction need to be changed to NADH, and these reactions are used for recycling of NADPH. "
   ]
  },
  {
   "cell_type": "code",
   "execution_count": 12,
   "metadata": {},
   "outputs": [
    {
     "name": "stdout",
     "output_type": "stream",
     "text": [
      "ATP production flux: 7.000000000000004\n"
     ]
    },
    {
     "data": {
      "application/vnd.jupyter.widget-view+json": {
       "model_id": "30f5f6e1b2814a569026b958c1d74651",
       "version_major": 2,
       "version_minor": 0
      },
      "text/plain": [
       "Builder(hide_secondary_metabolites=False, highlight_missing=True, reaction_data={'Biomass': 0.0, 'Biomass__fuc…"
      ]
     },
     "metadata": {},
     "output_type": "display_data"
    }
   ],
   "source": [
    "M= model.copy()\n",
    "M.reactions.get_by_id('carb_entner_2.7.1.165_GKI__RXN').bounds = (0,0)\n",
    "M.reactions.get_by_id('other_no__pathway_3.6.1.7_BS165362').bounds = (0,0)\n",
    "M.reactions.get_by_id('carb_enter_glucneo_2.7.2.3_PHOSGLYPHOS__RXN').bounds = (0,0)\n",
    "M.reactions.get_by_id(\"oxp_redox_1.10.3.13_soxABCD_TRANS__RXN__240\").bounds = (0,0)\n",
    "sol = M.optimize()\n",
    "print (\"ATP production flux:\", sol.fluxes.loc[\"NGAM\"])\n",
    "b = show_map(sol,map_loc)\n",
    "b"
   ]
  },
  {
   "cell_type": "markdown",
   "metadata": {},
   "source": [
    "### SoxABCD+ methyxol"
   ]
  },
  {
   "cell_type": "code",
   "execution_count": 13,
   "metadata": {},
   "outputs": [
    {
     "name": "stdout",
     "output_type": "stream",
     "text": [
      "ATP production flux: 9.999999999999975\n"
     ]
    },
    {
     "data": {
      "application/vnd.jupyter.widget-view+json": {
       "model_id": "d667fbc241884966b0b32f9580da966d",
       "version_major": 2,
       "version_minor": 0
      },
      "text/plain": [
       "Builder(hide_secondary_metabolites=False, highlight_missing=True, reaction_data={'Biomass': 0.0, 'Biomass__fuc…"
      ]
     },
     "metadata": {},
     "output_type": "display_data"
    }
   ],
   "source": [
    "M= model.copy()\n",
    "M.reactions.get_by_id('carb_entner_2.7.1.165_GKI__RXN').bounds = (0,0)\n",
    "M.reactions.get_by_id('other_no__pathway_3.6.1.7_BS165362').bounds = (0,0)\n",
    "M.reactions.get_by_id('carb_enter_glucneo_2.7.2.3_PHOSGLYPHOS__RXN').bounds = (0,0)\n",
    "M.reactions.get_by_id('carb_enter_glucneo_1.2.1.9_1.2.1.9__RXN').bounds = (0,0)\n",
    "sol = M.optimize()\n",
    "print (\"ATP production flux:\", sol.fluxes.loc[\"NGAM\"])\n",
    "b = show_map(sol,map_loc2)\n",
    "b"
   ]
  },
  {
   "cell_type": "markdown",
   "metadata": {},
   "source": [
    "### SoxM + methyxol"
   ]
  },
  {
   "cell_type": "code",
   "execution_count": 14,
   "metadata": {},
   "outputs": [
    {
     "name": "stdout",
     "output_type": "stream",
     "text": [
      "ATP production flux: 5.0\n"
     ]
    },
    {
     "data": {
      "application/vnd.jupyter.widget-view+json": {
       "model_id": "6d645eed11834fc09d9135ddb6b5e7eb",
       "version_major": 2,
       "version_minor": 0
      },
      "text/plain": [
       "Builder(hide_secondary_metabolites=False, highlight_missing=True, reaction_data={'Biomass': 0.0, 'Biomass__fuc…"
      ]
     },
     "metadata": {},
     "output_type": "display_data"
    }
   ],
   "source": [
    "M= model.copy()\n",
    "M.reactions.get_by_id('carb_entner_2.7.1.165_GKI__RXN').bounds = (0,0)\n",
    "M.reactions.get_by_id('other_no__pathway_3.6.1.7_BS165362').bounds = (0,0)\n",
    "M.reactions.get_by_id('carb_enter_glucneo_2.7.2.3_PHOSGLYPHOS__RXN').bounds = (0,0)\n",
    "M.reactions.get_by_id('carb_enter_glucneo_1.2.1.9_1.2.1.9__RXN').bounds = (0,0)\n",
    "M.reactions.get_by_id(\"oxp_redox_1.10.3.13_soxABCD_TRANS__RXN__240\").bounds = (0,0)\n",
    "sol = M.optimize()\n",
    "print (\"ATP production flux:\", sol.fluxes.loc[\"NGAM\"])\n",
    "b = show_map(sol,map_loc2)\n",
    "b"
   ]
  },
  {
   "cell_type": "markdown",
   "metadata": {},
   "source": [
    "## PEP carboxlyse + PEP synthesis:  pathway 2"
   ]
  },
  {
   "cell_type": "markdown",
   "metadata": {},
   "source": [
    "### SoxABCD PGK and GAPDH pathway + SoxABCD"
   ]
  },
  {
   "cell_type": "code",
   "execution_count": 15,
   "metadata": {},
   "outputs": [],
   "source": [
    "model.reactions.get_by_id (\"aa_ser_gly_cys_sec_trp_1.1.1.95_PGLYCDEHYDROG__RXN\").bounds = (0,0)"
   ]
  },
  {
   "cell_type": "code",
   "execution_count": 16,
   "metadata": {
    "scrolled": true
   },
   "outputs": [
    {
     "name": "stdout",
     "output_type": "stream",
     "text": [
      "ATP production flux: 13.00000000000001\n"
     ]
    },
    {
     "data": {
      "application/vnd.jupyter.widget-view+json": {
       "model_id": "824a22e7996c4e1a8bcd0b071abca6a1",
       "version_major": 2,
       "version_minor": 0
      },
      "text/plain": [
       "Builder(hide_secondary_metabolites=False, highlight_missing=True, reaction_data={'Biomass': 0.0, 'Biomass__fuc…"
      ]
     },
     "metadata": {},
     "output_type": "display_data"
    }
   ],
   "source": [
    "M= model.copy()\n",
    "M.reactions.get_by_id(\"carb_enter_2.7.1.40_PEPDEPHOS__RXN\").bounds = (0,0)\n",
    "sol = M.optimize()\n",
    "print (\"ATP production flux:\", sol.fluxes.loc[\"NGAM\"])\n",
    "b = show_map(sol,map_loc)\n",
    "b"
   ]
  },
  {
   "cell_type": "markdown",
   "metadata": {},
   "source": [
    "### SoxM PGK and GAPDH pathway + SoxM"
   ]
  },
  {
   "cell_type": "code",
   "execution_count": 17,
   "metadata": {
    "scrolled": true
   },
   "outputs": [
    {
     "name": "stdout",
     "output_type": "stream",
     "text": [
      "ATP production flux: 6.999999999999995\n"
     ]
    },
    {
     "data": {
      "application/vnd.jupyter.widget-view+json": {
       "model_id": "134a2269c9d3446c8eeae0ece16feadb",
       "version_major": 2,
       "version_minor": 0
      },
      "text/plain": [
       "Builder(hide_secondary_metabolites=False, highlight_missing=True, reaction_data={'Biomass': 0.0, 'Biomass__fuc…"
      ]
     },
     "metadata": {},
     "output_type": "display_data"
    }
   ],
   "source": [
    "M= model.copy()\n",
    "M.reactions.get_by_id(\"oxp_redox_1.10.3.13_soxABCD_TRANS__RXN__240\").bounds = (0,0)\n",
    "M.reactions.get_by_id(\"carb_enter_2.7.1.40_PEPDEPHOS__RXN\").bounds = (0,0)\n",
    "sol = M.optimize()\n",
    "print (\"ATP production flux:\", sol.fluxes.loc[\"NGAM\"])\n",
    "b = show_map(sol,map_loc)\n",
    "b"
   ]
  },
  {
   "cell_type": "markdown",
   "metadata": {},
   "source": [
    "### Sox ABCD + Non-phosphorylation pathway after blocking the reactions for KDGK\n",
    "    - There are two reactions for KDGK enzyme, after making the bounds to 0, the \n",
    "    non-phosphorylation pathway will be used. \n",
    "    \n",
    "    - In the figure we can see that GAPDH reactions will also be used, the reason for this is the NADPH produced in the GK reaction need to be changed to NADH, and these reactions are used for recycling of NADPH. "
   ]
  },
  {
   "cell_type": "code",
   "execution_count": 18,
   "metadata": {},
   "outputs": [
    {
     "name": "stdout",
     "output_type": "stream",
     "text": [
      "ATP production flux: 12.000000000000002\n"
     ]
    },
    {
     "data": {
      "application/vnd.jupyter.widget-view+json": {
       "model_id": "13647057dac340b5bbb4f6fa640d2d9a",
       "version_major": 2,
       "version_minor": 0
      },
      "text/plain": [
       "Builder(hide_secondary_metabolites=False, highlight_missing=True, reaction_data={'Biomass': 0.0, 'Biomass__fuc…"
      ]
     },
     "metadata": {},
     "output_type": "display_data"
    }
   ],
   "source": [
    "M= model.copy()\n",
    "# The following two reactions are the ones for KDGK reactions\n",
    "M.reactions.get_by_id('carb_entner_2.7.1.178_DEHYDDEOXGALACTKIN__RXN').bounds = (0,0)\n",
    "M.reactions.get_by_id('carb_entner_2.7.1.178_DEOXYGLUCONOKIN__RXN').bounds = (0,0)\n",
    "M.reactions.get_by_id('carb_enter_glucneo_2.7.2.3_PHOSGLYPHOS__RXN').bounds = (0,0)\n",
    "M.reactions.get_by_id(\"carb_enter_2.7.1.40_PEPDEPHOS__RXN\").bounds = (0,0)\n",
    "\n",
    "sol = M.optimize()\n",
    "print (\"ATP production flux:\", sol.fluxes.loc[\"NGAM\"])\n",
    "b = show_map(sol,map_loc)\n",
    "b"
   ]
  },
  {
   "cell_type": "markdown",
   "metadata": {},
   "source": [
    "### Sox M + Non-phosphorylation pathway after blocking the reactions for KDGK\n",
    "    - There are two reactions for KDGK enzyme, after making the bounds to 0, the \n",
    "    non-phosphorylation pathway will be used. \n",
    "    \n",
    "    - In the figure we can see that GAPDH reactions will also be used, the reason for this is the NADPH produced in the GK reaction need to be changed to NADH, and these reactions are used for recycling of NADPH. "
   ]
  },
  {
   "cell_type": "code",
   "execution_count": 19,
   "metadata": {},
   "outputs": [
    {
     "name": "stdout",
     "output_type": "stream",
     "text": [
      "ATP production flux: 6.000000000000003\n"
     ]
    },
    {
     "data": {
      "application/vnd.jupyter.widget-view+json": {
       "model_id": "920c7364d9534b43b232ad7d94d5cb8e",
       "version_major": 2,
       "version_minor": 0
      },
      "text/plain": [
       "Builder(hide_secondary_metabolites=False, highlight_missing=True, reaction_data={'Biomass': 0.0, 'Biomass__fuc…"
      ]
     },
     "metadata": {},
     "output_type": "display_data"
    }
   ],
   "source": [
    "M= model.copy()\n",
    "# The following two reactions are the ones for KDGK reactions\n",
    "M.reactions.get_by_id('carb_entner_2.7.1.178_DEHYDDEOXGALACTKIN__RXN').bounds = (0,0)\n",
    "M.reactions.get_by_id('carb_entner_2.7.1.178_DEOXYGLUCONOKIN__RXN').bounds = (0,0)\n",
    "M.reactions.get_by_id('carb_enter_glucneo_2.7.2.3_PHOSGLYPHOS__RXN').bounds = (0,0)\n",
    "M.reactions.get_by_id(\"carb_enter_2.7.1.40_PEPDEPHOS__RXN\").bounds = (0,0)\n",
    "M.reactions.get_by_id(\"oxp_redox_1.10.3.13_soxABCD_TRANS__RXN__240\").bounds = (0,0)\n",
    "\n",
    "sol = M.optimize()\n",
    "print (\"ATP production flux:\", sol.fluxes.loc[\"NGAM\"])\n",
    "b = show_map(sol,map_loc)\n",
    "b"
   ]
  },
  {
   "cell_type": "markdown",
   "metadata": {},
   "source": [
    "### SoxABCD + spontaneous degradation pathway after blocking the reaction for GK"
   ]
  },
  {
   "cell_type": "code",
   "execution_count": 20,
   "metadata": {},
   "outputs": [
    {
     "name": "stdout",
     "output_type": "stream",
     "text": [
      "ATP production flux: 11.999999999999998\n"
     ]
    },
    {
     "data": {
      "application/vnd.jupyter.widget-view+json": {
       "model_id": "0cb08c96bcbd45c6b4133317035221e0",
       "version_major": 2,
       "version_minor": 0
      },
      "text/plain": [
       "Builder(hide_secondary_metabolites=False, highlight_missing=True, reaction_data={'Biomass': 0.0, 'Biomass__fuc…"
      ]
     },
     "metadata": {},
     "output_type": "display_data"
    }
   ],
   "source": [
    "M= model.copy()\n",
    "M.reactions.get_by_id('carb_enter_glucneo_2.7.2.3_PHOSGLYPHOS__RXN').bounds = (0,0)\n",
    "M.reactions.get_by_id('carb_entner_2.7.1.165_GKI__RXN').bounds = (0,0)\n",
    "M.reactions.get_by_id(\"carb_enter_2.7.1.40_PEPDEPHOS__RXN\").bounds = (0,0)\n",
    "sol = M.optimize()\n",
    "l = sol.fluxes[abs(sol.fluxes)>1e-6].index\n",
    "print (\"ATP production flux:\", sol.fluxes.loc[\"NGAM\"])\n",
    "b = show_map(sol,map_loc)\n",
    "b"
   ]
  },
  {
   "cell_type": "markdown",
   "metadata": {},
   "source": [
    "### SoxM + spontaneous degradation pathway after blocking the reaction for GK"
   ]
  },
  {
   "cell_type": "code",
   "execution_count": 21,
   "metadata": {},
   "outputs": [
    {
     "name": "stdout",
     "output_type": "stream",
     "text": [
      "ATP production flux: 5.999999999999994\n"
     ]
    },
    {
     "data": {
      "application/vnd.jupyter.widget-view+json": {
       "model_id": "57ace8f125cc423e9204cf027344ddac",
       "version_major": 2,
       "version_minor": 0
      },
      "text/plain": [
       "Builder(hide_secondary_metabolites=False, highlight_missing=True, reaction_data={'Biomass': 0.0, 'Biomass__fuc…"
      ]
     },
     "metadata": {},
     "output_type": "display_data"
    }
   ],
   "source": [
    "M= model.copy()\n",
    "M.reactions.get_by_id('carb_enter_glucneo_2.7.2.3_PHOSGLYPHOS__RXN').bounds = (0,0)\n",
    "M.reactions.get_by_id('carb_entner_2.7.1.165_GKI__RXN').bounds = (0,0)\n",
    "M.reactions.get_by_id(\"carb_enter_2.7.1.40_PEPDEPHOS__RXN\").bounds = (0,0)\n",
    "M.reactions.get_by_id(\"oxp_redox_1.10.3.13_soxABCD_TRANS__RXN__240\").bounds = (0,0)\n",
    "sol = M.optimize()\n",
    "print (\"ATP production flux:\", sol.fluxes.loc[\"NGAM\"])\n",
    "b = show_map(sol,map_loc)\n",
    "b"
   ]
  },
  {
   "cell_type": "markdown",
   "metadata": {},
   "source": [
    "### SoxABCD + GAPN pathway after blocking GKI, spondegradation for BPG.\n",
    "      - In the figure we can see that GAPDH reactions will also be used, the reason for this is the NADPH produced in the GAPN reaction need to be changed to NADH, and these reactions are used for recycling of NADPH. "
   ]
  },
  {
   "cell_type": "code",
   "execution_count": 22,
   "metadata": {},
   "outputs": [
    {
     "name": "stdout",
     "output_type": "stream",
     "text": [
      "ATP production flux: 12.000000000000027\n"
     ]
    },
    {
     "data": {
      "application/vnd.jupyter.widget-view+json": {
       "model_id": "b31cafd9dc7a4152a799389991f9d6e9",
       "version_major": 2,
       "version_minor": 0
      },
      "text/plain": [
       "Builder(hide_secondary_metabolites=False, highlight_missing=True, reaction_data={'Biomass': 0.0, 'Biomass__fuc…"
      ]
     },
     "metadata": {},
     "output_type": "display_data"
    }
   ],
   "source": [
    "M= model.copy()\n",
    "M.reactions.get_by_id('carb_entner_2.7.1.165_GKI__RXN').bounds = (0,0)\n",
    "M.reactions.get_by_id('other_no__pathway_3.6.1.7_BS165362').bounds = (0,0)\n",
    "M.reactions.get_by_id('carb_enter_glucneo_2.7.2.3_PHOSGLYPHOS__RXN').bounds = (0,0)\n",
    "M.reactions.get_by_id(\"carb_enter_2.7.1.40_PEPDEPHOS__RXN\").bounds = (0,0)\n",
    "sol = M.optimize()\n",
    "print (\"ATP production flux:\", sol.fluxes.loc[\"NGAM\"])\n",
    "b = show_map(sol,map_loc)\n",
    "b"
   ]
  },
  {
   "cell_type": "markdown",
   "metadata": {},
   "source": [
    "### SoxM + GAPN pathway after blocking GKI, spondegradation for BPG.\n",
    "      - In the figure we can see that GAPDH reactions will also be used, the reason for this is the NADPH produced in the GAPN reaction need to be changed to NADH, and these reactions are used for recycling of NADPH. "
   ]
  },
  {
   "cell_type": "code",
   "execution_count": 23,
   "metadata": {},
   "outputs": [
    {
     "name": "stdout",
     "output_type": "stream",
     "text": [
      "ATP production flux: 5.999999999999993\n"
     ]
    },
    {
     "data": {
      "application/vnd.jupyter.widget-view+json": {
       "model_id": "7249c13151a44a08ac1fe7eb6a904495",
       "version_major": 2,
       "version_minor": 0
      },
      "text/plain": [
       "Builder(hide_secondary_metabolites=False, highlight_missing=True, reaction_data={'Biomass': 0.0, 'Biomass__fuc…"
      ]
     },
     "metadata": {},
     "output_type": "display_data"
    }
   ],
   "source": [
    "M= model.copy()\n",
    "M.reactions.get_by_id('carb_entner_2.7.1.165_GKI__RXN').bounds = (0,0)\n",
    "M.reactions.get_by_id('other_no__pathway_3.6.1.7_BS165362').bounds = (0,0)\n",
    "M.reactions.get_by_id('carb_enter_glucneo_2.7.2.3_PHOSGLYPHOS__RXN').bounds = (0,0)\n",
    "M.reactions.get_by_id(\"carb_enter_2.7.1.40_PEPDEPHOS__RXN\").bounds = (0,0)\n",
    "M.reactions.get_by_id(\"oxp_redox_1.10.3.13_soxABCD_TRANS__RXN__240\").bounds = (0,0)\n",
    "sol = M.optimize()\n",
    "l = sol.fluxes[abs(sol.fluxes)>1e-6].index\n",
    "# for rxn in l:\n",
    "#     print (rxn,M.reactions.get_by_id(rxn).reaction,sol.fluxes.loc[rxn])\n",
    "print (\"ATP production flux:\", sol.fluxes.loc[\"NGAM\"])\n",
    "b = show_map(sol,map_loc)\n",
    "b"
   ]
  },
  {
   "cell_type": "markdown",
   "metadata": {},
   "source": [
    "## blocking PEP carboxlyse + PEP synthesis:  pathway 3"
   ]
  },
  {
   "cell_type": "markdown",
   "metadata": {},
   "source": [
    "### SoxABCD PGK and GAPDH pathway + SoxABCD"
   ]
  },
  {
   "cell_type": "code",
   "execution_count": 24,
   "metadata": {},
   "outputs": [],
   "source": [
    "reaction = Reaction('aa_ser_gly_thr_4.3.1.19_L_SERINE_AMMONIA_LYASE_RXN')\n",
    "reaction.name = 'aa_ser_gly_thr_4.3.1.19_L_SERINE_AMMONIA_LYASE_RXN'\n",
    "reaction.lower_bound = 0.  # This is the default\n",
    "reaction.upper_bound = 1000.  # This is the default\n",
    "model.add_reactions([reaction])\n",
    "reaction.add_metabolites({\"L__serine\":-1.0,\n",
    "                         \"pyruvate\":1.0,\n",
    "                         \"ammonia\": 1.0})\n",
    "model.reactions.get_by_id('aa_met_salvage_4.2.1.22_CYSTATHIONINE__BETA__SYNTHASE__RXN').bounds = (0,0)# these two reactions do not exist in this organism"
   ]
  },
  {
   "cell_type": "code",
   "execution_count": 25,
   "metadata": {},
   "outputs": [],
   "source": [
    "model.reactions.get_by_id(\"carb_anap_4.1.1.31_PEPCARBOX__RXN\").bounds = (0,0)\n",
    "model.reactions.get_by_id(\"aa_ser_gly_cys_sec_trp_1.1.1.95_PGLYCDEHYDROG__RXN\").bounds = (0,10)"
   ]
  },
  {
   "cell_type": "code",
   "execution_count": 26,
   "metadata": {
    "scrolled": true
   },
   "outputs": [
    {
     "name": "stdout",
     "output_type": "stream",
     "text": [
      "ATP production flux: 12.999999999999986\n"
     ]
    },
    {
     "data": {
      "application/vnd.jupyter.widget-view+json": {
       "model_id": "c6e0d920e1194d27bed7ea08f32aec0a",
       "version_major": 2,
       "version_minor": 0
      },
      "text/plain": [
       "Builder(hide_secondary_metabolites=False, highlight_missing=True, reaction_data={'Biomass': 0.0, 'Biomass__fuc…"
      ]
     },
     "metadata": {},
     "output_type": "display_data"
    }
   ],
   "source": [
    "M= model.copy()\n",
    "M.reactions.get_by_id(\"carb_enter_2.7.1.40_PEPDEPHOS__RXN\").bounds = (0,0)\n",
    "sol = M.optimize()\n",
    "print (\"ATP production flux:\", sol.fluxes.loc[\"NGAM\"])\n",
    "b = show_map(sol,map_loc)\n",
    "b"
   ]
  },
  {
   "cell_type": "markdown",
   "metadata": {},
   "source": [
    "### SoxM PGK and GAPDH pathway + PK + SoxM"
   ]
  },
  {
   "cell_type": "code",
   "execution_count": 27,
   "metadata": {
    "scrolled": false
   },
   "outputs": [
    {
     "name": "stdout",
     "output_type": "stream",
     "text": [
      "ATP production flux: 7.0000000000000036\n"
     ]
    },
    {
     "data": {
      "application/vnd.jupyter.widget-view+json": {
       "model_id": "1270dcd740514173965fd5b393e5a271",
       "version_major": 2,
       "version_minor": 0
      },
      "text/plain": [
       "Builder(hide_secondary_metabolites=False, highlight_missing=True, reaction_data={'Biomass': 0.0, 'Biomass__fuc…"
      ]
     },
     "metadata": {},
     "output_type": "display_data"
    }
   ],
   "source": [
    "M= model.copy()\n",
    "M.reactions.get_by_id(\"oxp_redox_1.10.3.13_soxABCD_TRANS__RXN__240\").bounds = (0,0)\n",
    "M.reactions.get_by_id(\"carb_enter_2.7.1.40_PEPDEPHOS__RXN\").bounds = (0,0)\n",
    "sol = M.optimize()\n",
    "print (\"ATP production flux:\", sol.fluxes.loc[\"NGAM\"])\n",
    "b = show_map(sol,map_loc)\n",
    "b"
   ]
  },
  {
   "cell_type": "markdown",
   "metadata": {},
   "source": [
    "### Sox ABCD + Non-phosphorylation pathway after blocking the reactions for KDGK\n",
    "    - There are two reactions for KDGK enzyme, after making the bounds to 0, the \n",
    "    non-phosphorylation pathway will be used. \n",
    "    \n",
    "    - In the figure we can see that GAPDH reactions will also be used, the reason for this is the NADPH produced in the GK reaction need to be changed to NADH, and these reactions are used for recycling of NADPH. "
   ]
  },
  {
   "cell_type": "code",
   "execution_count": 28,
   "metadata": {},
   "outputs": [
    {
     "name": "stdout",
     "output_type": "stream",
     "text": [
      "ATP production flux: 12.0\n"
     ]
    },
    {
     "data": {
      "application/vnd.jupyter.widget-view+json": {
       "model_id": "807d93ef4ae544c59a6ecada03237c54",
       "version_major": 2,
       "version_minor": 0
      },
      "text/plain": [
       "Builder(hide_secondary_metabolites=False, highlight_missing=True, reaction_data={'Biomass': 0.0, 'Biomass__fuc…"
      ]
     },
     "metadata": {},
     "output_type": "display_data"
    }
   ],
   "source": [
    "M= model.copy()\n",
    "# The following two reactions are the ones for KDGK reactions\n",
    "M.reactions.get_by_id('carb_entner_2.7.1.178_DEHYDDEOXGALACTKIN__RXN').bounds = (0,0)\n",
    "M.reactions.get_by_id('carb_entner_2.7.1.178_DEOXYGLUCONOKIN__RXN').bounds = (0,0)\n",
    "M.reactions.get_by_id('carb_enter_glucneo_2.7.2.3_PHOSGLYPHOS__RXN').bounds = (0,0)\n",
    "M.reactions.get_by_id(\"carb_enter_2.7.1.40_PEPDEPHOS__RXN\").bounds = (0,0)\n",
    "\n",
    "sol = M.optimize()\n",
    "print (\"ATP production flux:\", sol.fluxes.loc[\"NGAM\"])\n",
    "b = show_map(sol,map_loc)\n",
    "b"
   ]
  },
  {
   "cell_type": "markdown",
   "metadata": {},
   "source": [
    "### Sox M + Non-phosphorylation pathway after blocking the reactions for KDGK\n",
    "    - There are two reactions for KDGK enzyme, after making the bounds to 0, the \n",
    "    non-phosphorylation pathway will be used. \n",
    "    \n",
    "    - In the figure we can see that GAPDH reactions will also be used, the reason for this is the NADPH produced in the GK reaction need to be changed to NADH, and these reactions are used for recycling of NADPH. "
   ]
  },
  {
   "cell_type": "code",
   "execution_count": 29,
   "metadata": {},
   "outputs": [
    {
     "name": "stdout",
     "output_type": "stream",
     "text": [
      "ATP production flux: 6.0\n"
     ]
    },
    {
     "data": {
      "application/vnd.jupyter.widget-view+json": {
       "model_id": "ea2a3e3cf0c6427e93c2781e45c191d0",
       "version_major": 2,
       "version_minor": 0
      },
      "text/plain": [
       "Builder(hide_secondary_metabolites=False, highlight_missing=True, reaction_data={'Biomass': 0.0, 'Biomass__fuc…"
      ]
     },
     "metadata": {},
     "output_type": "display_data"
    }
   ],
   "source": [
    "M= model.copy()\n",
    "# The following two reactions are the ones for KDGK reactions\n",
    "M.reactions.get_by_id('carb_entner_2.7.1.178_DEHYDDEOXGALACTKIN__RXN').bounds = (0,0)\n",
    "M.reactions.get_by_id('carb_entner_2.7.1.178_DEOXYGLUCONOKIN__RXN').bounds = (0,0)\n",
    "M.reactions.get_by_id('carb_enter_glucneo_2.7.2.3_PHOSGLYPHOS__RXN').bounds = (0,0)\n",
    "M.reactions.get_by_id(\"oxp_redox_1.10.3.13_soxABCD_TRANS__RXN__240\").bounds = (0,0)\n",
    "M.reactions.get_by_id(\"carb_enter_2.7.1.40_PEPDEPHOS__RXN\").bounds = (0,0)\n",
    "\n",
    "sol = M.optimize()\n",
    "print (\"ATP production flux:\", sol.fluxes.loc[\"NGAM\"])\n",
    "b = show_map(sol,map_loc)\n",
    "b"
   ]
  },
  {
   "cell_type": "markdown",
   "metadata": {},
   "source": [
    "### SoxABCD + GAPN pathway after blocking the reaction for GK"
   ]
  },
  {
   "cell_type": "code",
   "execution_count": 30,
   "metadata": {
    "scrolled": true
   },
   "outputs": [
    {
     "name": "stdout",
     "output_type": "stream",
     "text": [
      "ATP production flux: 12.000000000000005\n"
     ]
    },
    {
     "data": {
      "application/vnd.jupyter.widget-view+json": {
       "model_id": "62ffb132056d44c7afc332f81f42ab3e",
       "version_major": 2,
       "version_minor": 0
      },
      "text/plain": [
       "Builder(hide_secondary_metabolites=False, highlight_missing=True, reaction_data={'Biomass': 0.0, 'Biomass__fuc…"
      ]
     },
     "metadata": {},
     "output_type": "display_data"
    }
   ],
   "source": [
    "M= model.copy()\n",
    "M.reactions.get_by_id('carb_enter_glucneo_2.7.2.3_PHOSGLYPHOS__RXN').bounds = (0,0)\n",
    "M.reactions.get_by_id('carb_entner_2.7.1.165_GKI__RXN').bounds = (0,0)\n",
    "M.reactions.get_by_id(\"carb_enter_2.7.1.40_PEPDEPHOS__RXN\").bounds = (0,0)\n",
    "sol = M.optimize()\n",
    "print (\"ATP production flux:\", sol.fluxes.loc[\"NGAM\"])\n",
    "b = show_map(sol,map_loc)\n",
    "b"
   ]
  },
  {
   "cell_type": "markdown",
   "metadata": {},
   "source": [
    "### SoxM + GAPN pathway after blocking the reaction for GK"
   ]
  },
  {
   "cell_type": "code",
   "execution_count": 31,
   "metadata": {},
   "outputs": [
    {
     "name": "stdout",
     "output_type": "stream",
     "text": [
      "ATP production flux: 6.000000000000004\n"
     ]
    },
    {
     "data": {
      "application/vnd.jupyter.widget-view+json": {
       "model_id": "d0fe5b6fd7f749c6ab1318f94e76ab9a",
       "version_major": 2,
       "version_minor": 0
      },
      "text/plain": [
       "Builder(hide_secondary_metabolites=False, highlight_missing=True, reaction_data={'Biomass': 0.0, 'Biomass__fuc…"
      ]
     },
     "metadata": {},
     "output_type": "display_data"
    }
   ],
   "source": [
    "M= model.copy()\n",
    "M.reactions.get_by_id('carb_enter_glucneo_2.7.2.3_PHOSGLYPHOS__RXN').bounds = (0,0)\n",
    "M.reactions.get_by_id('carb_entner_2.7.1.165_GKI__RXN').bounds = (0,0)\n",
    "M.reactions.get_by_id(\"oxp_redox_1.10.3.13_soxABCD_TRANS__RXN__240\").bounds = (0,0)\n",
    "M.reactions.get_by_id(\"carb_enter_2.7.1.40_PEPDEPHOS__RXN\").bounds = (0,0)\n",
    "\n",
    "sol = M.optimize()\n",
    "l = sol.fluxes[abs(sol.fluxes)>1e-6].index\n",
    "print (\"ATP production flux:\", sol.fluxes.loc[\"NGAM\"])\n",
    "b = show_map(sol,map_loc)\n",
    "b"
   ]
  },
  {
   "cell_type": "markdown",
   "metadata": {},
   "source": [
    "### SoxABCD + spontaneous degradation pathway after blocking GKI, spondegradation for BPG.\n",
    "      - In the figure we can see that GAPDH reactions will also be used, the reason for this is the NADPH produced in the GAPN reaction need to be changed to NADH, and these reactions are used for recycling of NADPH. "
   ]
  },
  {
   "cell_type": "code",
   "execution_count": 32,
   "metadata": {},
   "outputs": [
    {
     "name": "stdout",
     "output_type": "stream",
     "text": [
      "ATP production flux: 12.000000000000023\n"
     ]
    },
    {
     "data": {
      "application/vnd.jupyter.widget-view+json": {
       "model_id": "fba490330032475d885da8bcb9184882",
       "version_major": 2,
       "version_minor": 0
      },
      "text/plain": [
       "Builder(hide_secondary_metabolites=False, highlight_missing=True, reaction_data={'Biomass': 0.0, 'Biomass__fuc…"
      ]
     },
     "metadata": {},
     "output_type": "display_data"
    }
   ],
   "source": [
    "M= model.copy()\n",
    "M.reactions.get_by_id('carb_entner_2.7.1.165_GKI__RXN').bounds = (0,0)\n",
    "M.reactions.get_by_id('carb_enter_glucneo_1.2.1.9_1.2.1.9__RXN').bounds = (0,0)\n",
    "M.reactions.get_by_id('carb_enter_glucneo_2.7.2.3_PHOSGLYPHOS__RXN').bounds = (0,0)\n",
    "M.reactions.get_by_id(\"carb_enter_2.7.1.40_PEPDEPHOS__RXN\").bounds = (0,0)\n",
    "sol = M.optimize()\n",
    "print (\"ATP production flux:\", sol.fluxes.loc[\"NGAM\"])\n",
    "b = show_map(sol,map_loc)\n",
    "b"
   ]
  },
  {
   "cell_type": "markdown",
   "metadata": {},
   "source": [
    "### SoxM + spontaneous degradation pathway after blocking GKI, spondegradation for BPG.\n",
    "      - In the figure we can see that GAPDH reactions will also be used, the reason for this is the NADPH produced in the GAPN reaction need to be changed to NADH, and these reactions are used for recycling of NADPH. "
   ]
  },
  {
   "cell_type": "code",
   "execution_count": 33,
   "metadata": {
    "scrolled": false
   },
   "outputs": [
    {
     "name": "stdout",
     "output_type": "stream",
     "text": [
      "ATP production flux: 6.000000000000004\n"
     ]
    },
    {
     "data": {
      "application/vnd.jupyter.widget-view+json": {
       "model_id": "497a504cf5834cfcb923ba62e8017620",
       "version_major": 2,
       "version_minor": 0
      },
      "text/plain": [
       "Builder(hide_secondary_metabolites=False, highlight_missing=True, reaction_data={'Biomass': 0.0, 'Biomass__fuc…"
      ]
     },
     "metadata": {},
     "output_type": "display_data"
    }
   ],
   "source": [
    "M= model.copy()\n",
    "M.reactions.get_by_id('carb_entner_2.7.1.165_GKI__RXN').bounds = (0,0)\n",
    "M.reactions.get_by_id('carb_enter_glucneo_1.2.1.9_1.2.1.9__RXN').bounds = (0,0)\n",
    "M.reactions.get_by_id('carb_enter_glucneo_2.7.2.3_PHOSGLYPHOS__RXN').bounds = (0,0)\n",
    "M.reactions.get_by_id(\"oxp_redox_1.10.3.13_soxABCD_TRANS__RXN__240\").bounds = (0,0)\n",
    "M.reactions.get_by_id(\"carb_enter_2.7.1.40_PEPDEPHOS__RXN\").bounds = (0,0)\n",
    "\n",
    "sol = M.optimize()\n",
    "print (\"ATP production flux:\", sol.fluxes.loc[\"NGAM\"])\n",
    "b = show_map(sol,map_loc)\n",
    "b"
   ]
  },
  {
   "cell_type": "markdown",
   "metadata": {},
   "source": [
    "# Methodology for dealing with variable stoichiometry"
   ]
  },
  {
   "cell_type": "code",
   "execution_count": 34,
   "metadata": {},
   "outputs": [
    {
     "data": {
      "text/html": [
       "<div>\n",
       "<style scoped>\n",
       "    .dataframe tbody tr th:only-of-type {\n",
       "        vertical-align: middle;\n",
       "    }\n",
       "\n",
       "    .dataframe tbody tr th {\n",
       "        vertical-align: top;\n",
       "    }\n",
       "\n",
       "    .dataframe thead th {\n",
       "        text-align: right;\n",
       "    }\n",
       "</style>\n",
       "<table border=\"1\" class=\"dataframe\">\n",
       "  <thead>\n",
       "    <tr style=\"text-align: right;\">\n",
       "      <th></th>\n",
       "      <th>Gear Z</th>\n",
       "      <th>SoxABCD flux</th>\n",
       "      <th>SoxM (DoxABCD) flux</th>\n",
       "      <th>NGAM (maintenance ATPase) (ATP/glucose imported</th>\n",
       "      <th>H+-ATPsynthase proton flux per glucose imported</th>\n",
       "    </tr>\n",
       "  </thead>\n",
       "  <tbody>\n",
       "    <tr>\n",
       "      <td>0</td>\n",
       "      <td>0.0</td>\n",
       "      <td>0.0</td>\n",
       "      <td>12.0</td>\n",
       "      <td>8.0</td>\n",
       "      <td>24.0</td>\n",
       "    </tr>\n",
       "    <tr>\n",
       "      <td>1</td>\n",
       "      <td>1.0</td>\n",
       "      <td>1.0</td>\n",
       "      <td>11.0</td>\n",
       "      <td>8.5</td>\n",
       "      <td>26.0</td>\n",
       "    </tr>\n",
       "    <tr>\n",
       "      <td>2</td>\n",
       "      <td>2.0</td>\n",
       "      <td>2.0</td>\n",
       "      <td>10.0</td>\n",
       "      <td>9.0</td>\n",
       "      <td>28.0</td>\n",
       "    </tr>\n",
       "    <tr>\n",
       "      <td>3</td>\n",
       "      <td>3.0</td>\n",
       "      <td>3.0</td>\n",
       "      <td>9.0</td>\n",
       "      <td>9.5</td>\n",
       "      <td>30.0</td>\n",
       "    </tr>\n",
       "    <tr>\n",
       "      <td>4</td>\n",
       "      <td>4.0</td>\n",
       "      <td>4.0</td>\n",
       "      <td>8.0</td>\n",
       "      <td>10.0</td>\n",
       "      <td>32.0</td>\n",
       "    </tr>\n",
       "    <tr>\n",
       "      <td>5</td>\n",
       "      <td>5.0</td>\n",
       "      <td>5.0</td>\n",
       "      <td>7.0</td>\n",
       "      <td>10.5</td>\n",
       "      <td>34.0</td>\n",
       "    </tr>\n",
       "    <tr>\n",
       "      <td>6</td>\n",
       "      <td>6.0</td>\n",
       "      <td>6.0</td>\n",
       "      <td>6.0</td>\n",
       "      <td>11.0</td>\n",
       "      <td>36.0</td>\n",
       "    </tr>\n",
       "    <tr>\n",
       "      <td>7</td>\n",
       "      <td>7.0</td>\n",
       "      <td>7.0</td>\n",
       "      <td>5.0</td>\n",
       "      <td>11.5</td>\n",
       "      <td>38.0</td>\n",
       "    </tr>\n",
       "    <tr>\n",
       "      <td>8</td>\n",
       "      <td>8.0</td>\n",
       "      <td>8.0</td>\n",
       "      <td>4.0</td>\n",
       "      <td>12.0</td>\n",
       "      <td>40.0</td>\n",
       "    </tr>\n",
       "    <tr>\n",
       "      <td>9</td>\n",
       "      <td>9.0</td>\n",
       "      <td>9.0</td>\n",
       "      <td>3.0</td>\n",
       "      <td>12.5</td>\n",
       "      <td>42.0</td>\n",
       "    </tr>\n",
       "    <tr>\n",
       "      <td>10</td>\n",
       "      <td>10.0</td>\n",
       "      <td>10.0</td>\n",
       "      <td>2.0</td>\n",
       "      <td>13.0</td>\n",
       "      <td>44.0</td>\n",
       "    </tr>\n",
       "    <tr>\n",
       "      <td>11</td>\n",
       "      <td>11.0</td>\n",
       "      <td>11.0</td>\n",
       "      <td>1.0</td>\n",
       "      <td>13.5</td>\n",
       "      <td>46.0</td>\n",
       "    </tr>\n",
       "    <tr>\n",
       "      <td>12</td>\n",
       "      <td>12.0</td>\n",
       "      <td>12.0</td>\n",
       "      <td>0.0</td>\n",
       "      <td>14.0</td>\n",
       "      <td>48.0</td>\n",
       "    </tr>\n",
       "  </tbody>\n",
       "</table>\n",
       "</div>"
      ],
      "text/plain": [
       "    Gear Z  SoxABCD flux  SoxM (DoxABCD) flux  NGAM (maintenance ATPase) (ATP/glucose imported  H+-ATPsynthase proton flux per glucose imported\n",
       "0   0.0     0.0           12.0                 8.0                                              24.0                                           \n",
       "1   1.0     1.0           11.0                 8.5                                              26.0                                           \n",
       "2   2.0     2.0           10.0                 9.0                                              28.0                                           \n",
       "3   3.0     3.0           9.0                  9.5                                              30.0                                           \n",
       "4   4.0     4.0           8.0                  10.0                                             32.0                                           \n",
       "5   5.0     5.0           7.0                  10.5                                             34.0                                           \n",
       "6   6.0     6.0           6.0                  11.0                                             36.0                                           \n",
       "7   7.0     7.0           5.0                  11.5                                             38.0                                           \n",
       "8   8.0     8.0           4.0                  12.0                                             40.0                                           \n",
       "9   9.0     9.0           3.0                  12.5                                             42.0                                           \n",
       "10  10.0    10.0          2.0                  13.0                                             44.0                                           \n",
       "11  11.0    11.0          1.0                  13.5                                             46.0                                           \n",
       "12  12.0    12.0          0.0                  14.0                                             48.0                                           "
      ]
     },
     "execution_count": 34,
     "metadata": {},
     "output_type": "execute_result"
    }
   ],
   "source": [
    "df_variable_stoichiometry = pd.DataFrame(columns=[\"Gear Z\",\"SoxABCD flux\",\"SoxM (DoxABCD) flux\",\"NGAM (maintenance ATPase) (ATP/glucose imported\",\"H+-ATPsynthase proton flux per glucose imported\"]) # start empty table\n",
    "M = model.copy()\n",
    "M.objective = M.reactions.NGAM\n",
    "M.reactions.T_flux_beta__D__glucose.bounds = (-1,1000)\n",
    "for Z in range(0,13):\n",
    "    M.reactions.get_by_id('oxp_redox_1.10.3.13_soxABCD_TRANS__RXN__240').bounds =(0,Z) \n",
    "    M.reactions.get_by_id('oxp_redox_1.10.3.13_soxM_TRANS__RXN__240').bounds =(0,12-Z) \n",
    "    sol = M.optimize()\n",
    "    H_ATPsynthase_proton_flux = sol.fluxes.loc[\"oxp_redox_1.10.3.13_soxABCD_TRANS__RXN__240\"] * 4 + sol.fluxes.loc[\"oxp_redox_1.10.3.13_soxM_TRANS__RXN__240\"]*2\n",
    "    df_variable_stoichiometry.loc[Z] = [Z,sol.fluxes.loc[\"oxp_redox_1.10.3.13_soxABCD_TRANS__RXN__240\"],sol.fluxes.loc[\"oxp_redox_1.10.3.13_soxM_TRANS__RXN__240\"],sol.fluxes.loc[\"NGAM\"],H_ATPsynthase_proton_flux] \n",
    "# df_variable_stoichiometry = df_variable_stoichiometry.set_index('Factor Z')\n",
    "df_variable_stoichiometry"
   ]
  }
 ],
 "metadata": {
  "kernelspec": {
   "display_name": "Python 3",
   "language": "python",
   "name": "python3"
  },
  "language_info": {
   "codemirror_mode": {
    "name": "ipython",
    "version": 3
   },
   "file_extension": ".py",
   "mimetype": "text/x-python",
   "name": "python",
   "nbconvert_exporter": "python",
   "pygments_lexer": "ipython3",
   "version": "3.6.9"
  },
  "toc": {
   "base_numbering": 1,
   "nav_menu": {},
   "number_sections": true,
   "sideBar": true,
   "skip_h1_title": false,
   "title_cell": "Table of Contents",
   "title_sidebar": "Contents",
   "toc_cell": false,
   "toc_position": {
    "height": "477px",
    "left": "130px",
    "top": "251px",
    "width": "351.891px"
   },
   "toc_section_display": true,
   "toc_window_display": true
  },
  "varInspector": {
   "cols": {
    "lenName": 16,
    "lenType": 16,
    "lenVar": 40
   },
   "kernels_config": {
    "python": {
     "delete_cmd_postfix": "",
     "delete_cmd_prefix": "del ",
     "library": "var_list.py",
     "varRefreshCmd": "print(var_dic_list())"
    },
    "r": {
     "delete_cmd_postfix": ") ",
     "delete_cmd_prefix": "rm(",
     "library": "var_list.r",
     "varRefreshCmd": "cat(var_dic_list()) "
    }
   },
   "types_to_exclude": [
    "module",
    "function",
    "builtin_function_or_method",
    "instance",
    "_Feature"
   ],
   "window_display": false
  }
 },
 "nbformat": 4,
 "nbformat_minor": 2
}
