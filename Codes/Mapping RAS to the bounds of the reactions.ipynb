{
 "cells": [
  {
   "cell_type": "markdown",
   "metadata": {},
   "source": [
    "## Set the environment"
   ]
  },
  {
   "cell_type": "code",
   "execution_count": 1,
   "metadata": {
    "scrolled": true
   },
   "outputs": [],
   "source": [
    "import cobra\n",
    "from cobra import Model, Reaction, Metabolite\n",
    "from cobra.flux_analysis import flux_variability_analysis\n",
    "import math\n",
    "import pandas as pd\n",
    "import numpy as np\n",
    "import matplotlib.pyplot as plt\n",
    "import glob\n",
    "import escher\n",
    "from escher import Builder\n",
    "from utils import show_map\n",
    "from utils.check_precursor_problem import check_precursor_problem\n",
    "map_loc = \"../data/overallmap8.25.json\" #Import the map that has been drawn using escher."
   ]
  },
  {
   "cell_type": "markdown",
   "metadata": {},
   "source": [
    "## Read the model and the transcriptomics"
   ]
  },
  {
   "cell_type": "markdown",
   "metadata": {},
   "source": [
    "### Read the model"
   ]
  },
  {
   "cell_type": "code",
   "execution_count": 2,
   "metadata": {},
   "outputs": [],
   "source": [
    "model = cobra.io.load_json_model('../models/updated_model.json')\n",
    "model.reactions.NGAM.bounds = (0,1000)\n",
    "model.objective = model.reactions.NGAM"
   ]
  },
  {
   "cell_type": "code",
   "execution_count": 3,
   "metadata": {},
   "outputs": [],
   "source": [
    "reaction = Reaction('aa_ser_gly_thr_4.3.1.19_L_SERINE_AMMONIA_LYASE_RXN')\n",
    "reaction.name = 'aa_ser_gly_thr_4.3.1.19_L_SERINE_AMMONIA_LYASE_RXN'\n",
    "reaction.lower_bound = 0.  # This is the default\n",
    "reaction.upper_bound = 1000.  # This is the default\n",
    "model.add_reactions([reaction])\n",
    "reaction.add_metabolites({\"L__serine\":-1.0,\n",
    "                         \"pyruvate\":1.0,\n",
    "                         \"ammonia\": 1.0})\n",
    "model.reactions.get_by_id('aa_met_salvage_4.2.1.22_CYSTATHIONINE__BETA__SYNTHASE__RXN').bounds = (0,0)# these two reactions do not exist in this organism"
   ]
  },
  {
   "cell_type": "markdown",
   "metadata": {},
   "source": [
    "### Read the transcriptomics"
   ]
  },
  {
   "cell_type": "code",
   "execution_count": 4,
   "metadata": {},
   "outputs": [
    {
     "data": {
      "text/html": [
       "<div>\n",
       "<style scoped>\n",
       "    .dataframe tbody tr th:only-of-type {\n",
       "        vertical-align: middle;\n",
       "    }\n",
       "\n",
       "    .dataframe tbody tr th {\n",
       "        vertical-align: top;\n",
       "    }\n",
       "\n",
       "    .dataframe thead th {\n",
       "        text-align: right;\n",
       "    }\n",
       "</style>\n",
       "<table border=\"1\" class=\"dataframe\">\n",
       "  <thead>\n",
       "    <tr style=\"text-align: right;\">\n",
       "      <th></th>\n",
       "      <th>Unnamed: 0</th>\n",
       "      <th>Reaction name</th>\n",
       "      <th>pathway</th>\n",
       "      <th>genes</th>\n",
       "      <th>gene_reaction_rule</th>\n",
       "      <th>Unnamed: 5</th>\n",
       "      <th>Unnamed: 6</th>\n",
       "      <th>Array_67 70</th>\n",
       "      <th>Array_67 80</th>\n",
       "      <th>Array_68 70</th>\n",
       "      <th>Array_68 80</th>\n",
       "      <th>Array_86 70</th>\n",
       "      <th>Array_86 80</th>\n",
       "      <th>Array_85 70</th>\n",
       "      <th>Array_85 80</th>\n",
       "      <th>average_list_column_70</th>\n",
       "      <th>average_list_column_80</th>\n",
       "    </tr>\n",
       "    <tr>\n",
       "      <th>reaction_id</th>\n",
       "      <th></th>\n",
       "      <th></th>\n",
       "      <th></th>\n",
       "      <th></th>\n",
       "      <th></th>\n",
       "      <th></th>\n",
       "      <th></th>\n",
       "      <th></th>\n",
       "      <th></th>\n",
       "      <th></th>\n",
       "      <th></th>\n",
       "      <th></th>\n",
       "      <th></th>\n",
       "      <th></th>\n",
       "      <th></th>\n",
       "      <th></th>\n",
       "      <th></th>\n",
       "    </tr>\n",
       "  </thead>\n",
       "  <tbody>\n",
       "    <tr>\n",
       "      <td>T_ABC__transporter_beta__D__glucose</td>\n",
       "      <td>0</td>\n",
       "      <td>ABC transport</td>\n",
       "      <td>0</td>\n",
       "      <td>28,473,066,284,830,600,000,000,000,000,000</td>\n",
       "      <td>and</td>\n",
       "      <td>0.0</td>\n",
       "      <td>0</td>\n",
       "      <td>142229.0</td>\n",
       "      <td>63180.0</td>\n",
       "      <td>0.0</td>\n",
       "      <td>0.0</td>\n",
       "      <td>196101.0</td>\n",
       "      <td>99840.0</td>\n",
       "      <td>215040.0</td>\n",
       "      <td>141324.0</td>\n",
       "      <td>184456.6667</td>\n",
       "      <td>101448.0</td>\n",
       "    </tr>\n",
       "    <tr>\n",
       "      <td>carb_entner_1.1.1.359_GLUCOSE__1__DEHYDROGENASE__NAD+__RXN</td>\n",
       "      <td>1</td>\n",
       "      <td>GDH</td>\n",
       "      <td>0</td>\n",
       "      <td>300,330,423,204</td>\n",
       "      <td>or</td>\n",
       "      <td>0.0</td>\n",
       "      <td>0</td>\n",
       "      <td>105265.0</td>\n",
       "      <td>111072.0</td>\n",
       "      <td>134460.0</td>\n",
       "      <td>107596.0</td>\n",
       "      <td>134495.0</td>\n",
       "      <td>154112.0</td>\n",
       "      <td>150784.0</td>\n",
       "      <td>92612.0</td>\n",
       "      <td>131251.0000</td>\n",
       "      <td>116348.0</td>\n",
       "    </tr>\n",
       "    <tr>\n",
       "      <td>carb_entner_1.1.1.47_GLUCOSE__1__DEHYDROGENASE__NAD+__RXN</td>\n",
       "      <td>2</td>\n",
       "      <td>GDH</td>\n",
       "      <td>0</td>\n",
       "      <td>300,330,423,204</td>\n",
       "      <td>or</td>\n",
       "      <td>0.0</td>\n",
       "      <td>0</td>\n",
       "      <td>105265.0</td>\n",
       "      <td>111072.0</td>\n",
       "      <td>134460.0</td>\n",
       "      <td>107596.0</td>\n",
       "      <td>134495.0</td>\n",
       "      <td>154112.0</td>\n",
       "      <td>150784.0</td>\n",
       "      <td>92612.0</td>\n",
       "      <td>131251.0000</td>\n",
       "      <td>116348.0</td>\n",
       "    </tr>\n",
       "    <tr>\n",
       "      <td>carb_entner_1.1.1.360_GLUCOSE__1__DEHYDROGENASE__NADP+__RXN</td>\n",
       "      <td>3</td>\n",
       "      <td>GDH</td>\n",
       "      <td>0</td>\n",
       "      <td>300,330,423,204</td>\n",
       "      <td>or</td>\n",
       "      <td>0.0</td>\n",
       "      <td>0</td>\n",
       "      <td>105265.0</td>\n",
       "      <td>111072.0</td>\n",
       "      <td>134460.0</td>\n",
       "      <td>107596.0</td>\n",
       "      <td>134495.0</td>\n",
       "      <td>154112.0</td>\n",
       "      <td>150784.0</td>\n",
       "      <td>92612.0</td>\n",
       "      <td>131251.0000</td>\n",
       "      <td>116348.0</td>\n",
       "    </tr>\n",
       "    <tr>\n",
       "      <td>carb_entner_3.1.1.17_GLUCONOLACT__RXN</td>\n",
       "      <td>4</td>\n",
       "      <td>GL</td>\n",
       "      <td>0</td>\n",
       "      <td>spontaneous</td>\n",
       "      <td>0</td>\n",
       "      <td>0.0</td>\n",
       "      <td>0</td>\n",
       "      <td>1000000.0</td>\n",
       "      <td>1000000.0</td>\n",
       "      <td>1000000.0</td>\n",
       "      <td>1000000.0</td>\n",
       "      <td>1000000.0</td>\n",
       "      <td>1000000.0</td>\n",
       "      <td>1000000.0</td>\n",
       "      <td>1000000.0</td>\n",
       "      <td>1000000.0000</td>\n",
       "      <td>1000000.0</td>\n",
       "    </tr>\n",
       "  </tbody>\n",
       "</table>\n",
       "</div>"
      ],
      "text/plain": [
       "                                                             Unnamed: 0  Reaction name pathway                                       genes gene_reaction_rule  Unnamed: 5 Unnamed: 6  Array_67 70  Array_67 80  Array_68 70  Array_68 80  Array_86 70  Array_86 80  Array_85 70  Array_85 80  average_list_column_70  average_list_column_80\n",
       "reaction_id                                                                                                                                                                                                                                                                                                                                 \n",
       "T_ABC__transporter_beta__D__glucose                          0           ABC transport  0       28,473,066,284,830,600,000,000,000,000,000  and                0.0         0          142229.0     63180.0      0.0          0.0          196101.0     99840.0      215040.0     141324.0     184456.6667             101448.0              \n",
       "carb_entner_1.1.1.359_GLUCOSE__1__DEHYDROGENASE__NAD+__RXN   1           GDH            0       300,330,423,204                             or                 0.0         0          105265.0     111072.0     134460.0     107596.0     134495.0     154112.0     150784.0     92612.0      131251.0000             116348.0              \n",
       "carb_entner_1.1.1.47_GLUCOSE__1__DEHYDROGENASE__NAD+__RXN    2           GDH            0       300,330,423,204                             or                 0.0         0          105265.0     111072.0     134460.0     107596.0     134495.0     154112.0     150784.0     92612.0      131251.0000             116348.0              \n",
       "carb_entner_1.1.1.360_GLUCOSE__1__DEHYDROGENASE__NADP+__RXN  3           GDH            0       300,330,423,204                             or                 0.0         0          105265.0     111072.0     134460.0     107596.0     134495.0     154112.0     150784.0     92612.0      131251.0000             116348.0              \n",
       "carb_entner_3.1.1.17_GLUCONOLACT__RXN                        4           GL             0       spontaneous                                 0                  0.0         0          1000000.0    1000000.0    1000000.0    1000000.0    1000000.0    1000000.0    1000000.0    1000000.0    1000000.0000            1000000.0             "
      ]
     },
     "execution_count": 4,
     "metadata": {},
     "output_type": "execute_result"
    }
   ],
   "source": [
    "df_gene_reaction_rule =pd.read_csv('../data/reaction_id_RAS8.24.csv')\n",
    "# set the reaction id column as the index in order to map it to the model\n",
    "df_gene_reaction_rule = df_gene_reaction_rule.fillna(0)# This code can be used to set the Nan values to 0. \n",
    "df_gene_reaction_rule = df_gene_reaction_rule.set_index([\"reaction_id\"],)# This code can be used to set the index.\n",
    "df_gene_reaction_rule.head()"
   ]
  },
  {
   "cell_type": "markdown",
   "metadata": {},
   "source": [
    "## Write a function for mapping transcriptomics to model reaction bounds"
   ]
  },
  {
   "cell_type": "code",
   "execution_count": 5,
   "metadata": {},
   "outputs": [],
   "source": [
    "def map_the_RNA_to_model (a, b,c):# Here a is the number used to divid the transcriptome data, b is the column for the transcriptome data, -c is the lower bound for glucose exchange reaction \n",
    "    \n",
    "    model1 = model.copy()\n",
    "    model1.reactions.get_by_id('T_flux_beta__D__glucose').bounds = (-c,0)\n",
    "    model1.reactions.get_by_id(\"aa_ser_gly_cys_sec_trp_1.1.1.95_PGLYCDEHYDROG__RXN\").bounds = (0,0)\n",
    "\n",
    "    for rxn in df_gene_reaction_rule.index:\n",
    "\n",
    "        the_bound = a*df_gene_reaction_rule[b].loc[rxn]\n",
    "\n",
    "        if model1.reactions.get_by_id(rxn).lower_bound < 0 and model1.reactions.get_by_id(rxn).upper_bound > 0: # this finds reversible rxns\n",
    "\n",
    "            model1.reactions.get_by_id(rxn).bounds = (-1*the_bound, the_bound) # we set the bound(s) with max abs(FVA) \n",
    "\n",
    "        elif model1.reactions.get_by_id(rxn).upper_bound > 0: # irreversible, flows in forward direction\n",
    "\n",
    "            model1.reactions.get_by_id(rxn).bounds = (0, the_bound)  # the lower bound will stay zero\n",
    "\n",
    "        elif int(model1.reactions.get_by_id(rxn).lower_bound) < 0: # irreversible, flows in backward direction\n",
    "\n",
    "            model1.reactions.get_by_id(rxn).bounds = (-1*the_bound, 0) # the upper bound will stay zero\n",
    "    model1.objective  = model1.reactions.NGAM\n",
    "    sol = model1.optimize()\n",
    "    b = show_map(sol,map_loc)\n",
    "    return(b)"
   ]
  },
  {
   "cell_type": "markdown",
   "metadata": {},
   "source": [
    "## Map the transcriptomics at different temperatures 70 and 80 ℃"
   ]
  },
  {
   "cell_type": "markdown",
   "metadata": {},
   "source": [
    "### 70℃"
   ]
  },
  {
   "cell_type": "markdown",
   "metadata": {},
   "source": [
    "#### The effect of the glucose concentrations with fixed a\n",
    "1. a is fixed at 10-5, and bound of glucose exchange reaction is changed. \n",
    "2. When the bound of glucose exchange reaction lower than 0.745, the cell will only use pgk and gapdh pathway.\n",
    "3. when the bound of glucose exchange reaction higher than 0.745, the cell will use pgk and gapdh pathway and non-phosphorylation pathway.\n",
    "4. The reason for this is because that PGM reaction becomes the control reaction, since the RNA level of this enzyme is realatively low. "
   ]
  },
  {
   "cell_type": "markdown",
   "metadata": {},
   "source": [
    "##### Figure S3"
   ]
  },
  {
   "cell_type": "code",
   "execution_count": 6,
   "metadata": {},
   "outputs": [
    {
     "data": {
      "application/vnd.jupyter.widget-view+json": {
       "model_id": "5fe30745006148819cf9665b3f2de98e",
       "version_major": 2,
       "version_minor": 0
      },
      "text/plain": [
       "Builder(hide_secondary_metabolites=False, highlight_missing=True, reaction_data={'Biomass': 0.0, 'Biomass__fuc…"
      ]
     },
     "metadata": {},
     "output_type": "display_data"
    }
   ],
   "source": [
    "map_the_RNA_to_model (10 ** -5,'average_list_column_70',1)"
   ]
  },
  {
   "cell_type": "code",
   "execution_count": 7,
   "metadata": {},
   "outputs": [
    {
     "data": {
      "application/vnd.jupyter.widget-view+json": {
       "model_id": "d18b5d5281994c579b2083365081efd6",
       "version_major": 2,
       "version_minor": 0
      },
      "text/plain": [
       "Builder(hide_secondary_metabolites=False, highlight_missing=True, reaction_data={'Biomass': 0.0, 'Biomass__fuc…"
      ]
     },
     "metadata": {},
     "output_type": "display_data"
    }
   ],
   "source": [
    "map_the_RNA_to_model (10 ** -5,'average_list_column_70',2)"
   ]
  },
  {
   "cell_type": "code",
   "execution_count": 8,
   "metadata": {},
   "outputs": [
    {
     "data": {
      "application/vnd.jupyter.widget-view+json": {
       "model_id": "96ddb0debc5e4fed9e9e6df5f880f091",
       "version_major": 2,
       "version_minor": 0
      },
      "text/plain": [
       "Builder(hide_secondary_metabolites=False, highlight_missing=True, reaction_data={'Biomass': 0.0, 'Biomass__fuc…"
      ]
     },
     "metadata": {},
     "output_type": "display_data"
    }
   ],
   "source": [
    "map_the_RNA_to_model (10 ** -5,'average_list_column_70',0.8)"
   ]
  },
  {
   "cell_type": "code",
   "execution_count": 9,
   "metadata": {},
   "outputs": [
    {
     "data": {
      "application/vnd.jupyter.widget-view+json": {
       "model_id": "f046b7de5bd34addaa86c2985c412f68",
       "version_major": 2,
       "version_minor": 0
      },
      "text/plain": [
       "Builder(hide_secondary_metabolites=False, highlight_missing=True, reaction_data={'Biomass': 0.0, 'Biomass__fuc…"
      ]
     },
     "metadata": {},
     "output_type": "display_data"
    }
   ],
   "source": [
    "map_the_RNA_to_model (10 ** -5,'average_list_column_70',0.745)"
   ]
  },
  {
   "cell_type": "code",
   "execution_count": 10,
   "metadata": {},
   "outputs": [
    {
     "data": {
      "application/vnd.jupyter.widget-view+json": {
       "model_id": "dd5b95e933c94a50938ab98089ffcab6",
       "version_major": 2,
       "version_minor": 0
      },
      "text/plain": [
       "Builder(hide_secondary_metabolites=False, highlight_missing=True, reaction_data={'Biomass': 0.0, 'Biomass__fuc…"
      ]
     },
     "metadata": {},
     "output_type": "display_data"
    }
   ],
   "source": [
    "map_the_RNA_to_model (10 ** -5,'average_list_column_70',0.5)"
   ]
  },
  {
   "cell_type": "markdown",
   "metadata": {},
   "source": [
    "#### The effect of the a with a fixed glucose concentrations \n",
    "1. c is fixed at 1, and the a is changed. \n",
    "2. when a is smaller than 1/74500, the cell will use pgk and gapdh pathway and non-phosphorylation pathway.\n",
    "2. when a is larger than 1/74500, the cell will use pgk and gapdh pathway.\n",
    "4. The reason for this is because that PGM reaction becomes the control reaction, since the RNA level of this enzyme is realatively low. "
   ]
  },
  {
   "cell_type": "code",
   "execution_count": 11,
   "metadata": {},
   "outputs": [
    {
     "data": {
      "application/vnd.jupyter.widget-view+json": {
       "model_id": "15d528315245463ebb7425208460050d",
       "version_major": 2,
       "version_minor": 0
      },
      "text/plain": [
       "Builder(hide_secondary_metabolites=False, highlight_missing=True, reaction_data={'Biomass': 0.0, 'Biomass__fuc…"
      ]
     },
     "metadata": {},
     "output_type": "display_data"
    }
   ],
   "source": [
    "map_the_RNA_to_model (0.5*10 ** -5,'average_list_column_70',1)"
   ]
  },
  {
   "cell_type": "code",
   "execution_count": 12,
   "metadata": {},
   "outputs": [
    {
     "data": {
      "application/vnd.jupyter.widget-view+json": {
       "model_id": "60751269c9b14a7f8da053d54ec3d34a",
       "version_major": 2,
       "version_minor": 0
      },
      "text/plain": [
       "Builder(hide_secondary_metabolites=False, highlight_missing=True, reaction_data={'Biomass': 0.0, 'Biomass__fuc…"
      ]
     },
     "metadata": {},
     "output_type": "display_data"
    }
   ],
   "source": [
    "map_the_RNA_to_model (10 ** -5,'average_list_column_70',1)"
   ]
  },
  {
   "cell_type": "code",
   "execution_count": 13,
   "metadata": {},
   "outputs": [
    {
     "data": {
      "application/vnd.jupyter.widget-view+json": {
       "model_id": "a4d5b36559214fdc94028670fc870a43",
       "version_major": 2,
       "version_minor": 0
      },
      "text/plain": [
       "Builder(hide_secondary_metabolites=False, highlight_missing=True, reaction_data={'Biomass': 0.0, 'Biomass__fuc…"
      ]
     },
     "metadata": {},
     "output_type": "display_data"
    }
   ],
   "source": [
    "map_the_RNA_to_model (1/74500,'average_list_column_70',1)"
   ]
  },
  {
   "cell_type": "code",
   "execution_count": 14,
   "metadata": {},
   "outputs": [
    {
     "data": {
      "application/vnd.jupyter.widget-view+json": {
       "model_id": "c696cac205c2442e9ee9cb4aeb57e833",
       "version_major": 2,
       "version_minor": 0
      },
      "text/plain": [
       "Builder(hide_secondary_metabolites=False, highlight_missing=True, reaction_data={'Biomass': 0.0, 'Biomass__fuc…"
      ]
     },
     "metadata": {},
     "output_type": "display_data"
    }
   ],
   "source": [
    "map_the_RNA_to_model (1/50000,'average_list_column_70',1)"
   ]
  },
  {
   "cell_type": "code",
   "execution_count": 15,
   "metadata": {},
   "outputs": [
    {
     "data": {
      "application/vnd.jupyter.widget-view+json": {
       "model_id": "26d279e6ead54466a5460a3aa91e7797",
       "version_major": 2,
       "version_minor": 0
      },
      "text/plain": [
       "Builder(hide_secondary_metabolites=False, highlight_missing=True, reaction_data={'Biomass': 0.0, 'Biomass__fuc…"
      ]
     },
     "metadata": {},
     "output_type": "display_data"
    }
   ],
   "source": [
    "map_the_RNA_to_model (1/100000,'average_list_column_80',1)"
   ]
  },
  {
   "cell_type": "markdown",
   "metadata": {},
   "source": [
    "### 80℃"
   ]
  },
  {
   "cell_type": "markdown",
   "metadata": {},
   "source": [
    "#### The effect of the glucose concentrations with fixed a\n",
    "with the fixed a, the cell will always use gapdh and pgk pathway. "
   ]
  },
  {
   "cell_type": "markdown",
   "metadata": {},
   "source": [
    "##### Figure S4"
   ]
  },
  {
   "cell_type": "code",
   "execution_count": 16,
   "metadata": {
    "scrolled": true
   },
   "outputs": [
    {
     "data": {
      "application/vnd.jupyter.widget-view+json": {
       "model_id": "fdb95ca99707432aa9a1ca1ee048e365",
       "version_major": 2,
       "version_minor": 0
      },
      "text/plain": [
       "Builder(hide_secondary_metabolites=False, highlight_missing=True, reaction_data={'Biomass': 0.0, 'Biomass__fuc…"
      ]
     },
     "metadata": {},
     "output_type": "display_data"
    }
   ],
   "source": [
    "map_the_RNA_to_model (10 ** -5,'average_list_column_80',1)"
   ]
  },
  {
   "cell_type": "code",
   "execution_count": 17,
   "metadata": {
    "scrolled": true
   },
   "outputs": [
    {
     "data": {
      "application/vnd.jupyter.widget-view+json": {
       "model_id": "dac5d65f69904c0ea18ef6f95e56333e",
       "version_major": 2,
       "version_minor": 0
      },
      "text/plain": [
       "Builder(hide_secondary_metabolites=False, highlight_missing=True, reaction_data={'Biomass': 0.0, 'Biomass__fuc…"
      ]
     },
     "metadata": {},
     "output_type": "display_data"
    }
   ],
   "source": [
    "map_the_RNA_to_model (10 ** -5,'average_list_column_80',0.5)"
   ]
  },
  {
   "cell_type": "code",
   "execution_count": 18,
   "metadata": {},
   "outputs": [
    {
     "data": {
      "application/vnd.jupyter.widget-view+json": {
       "model_id": "cae52f0b68a94becaca812102bc30130",
       "version_major": 2,
       "version_minor": 0
      },
      "text/plain": [
       "Builder(hide_secondary_metabolites=False, highlight_missing=True, reaction_data={'Biomass': 0.0, 'Biomass__fuc…"
      ]
     },
     "metadata": {},
     "output_type": "display_data"
    }
   ],
   "source": [
    "map_the_RNA_to_model (10 ** -5,'average_list_column_80',1.5)"
   ]
  },
  {
   "cell_type": "markdown",
   "metadata": {},
   "source": [
    "#### The effect of the a with  the fixed glucose concentrations\n",
    "with the fixed glucose concentration, the cell will always use gapdh and pgk pathway. "
   ]
  },
  {
   "cell_type": "code",
   "execution_count": 19,
   "metadata": {},
   "outputs": [
    {
     "data": {
      "application/vnd.jupyter.widget-view+json": {
       "model_id": "5b0a0df2122b496590bd29bf80529ba9",
       "version_major": 2,
       "version_minor": 0
      },
      "text/plain": [
       "Builder(hide_secondary_metabolites=False, highlight_missing=True, reaction_data={'Biomass': 0.0, 'Biomass__fuc…"
      ]
     },
     "metadata": {},
     "output_type": "display_data"
    }
   ],
   "source": [
    "map_the_RNA_to_model (1/200000,'average_list_column_80',1)"
   ]
  },
  {
   "cell_type": "code",
   "execution_count": 20,
   "metadata": {},
   "outputs": [
    {
     "data": {
      "application/vnd.jupyter.widget-view+json": {
       "model_id": "de081f1ef20b4cdd883ec0563e298a12",
       "version_major": 2,
       "version_minor": 0
      },
      "text/plain": [
       "Builder(hide_secondary_metabolites=False, highlight_missing=True, reaction_data={'Biomass': 0.0, 'Biomass__fuc…"
      ]
     },
     "metadata": {},
     "output_type": "display_data"
    }
   ],
   "source": [
    "map_the_RNA_to_model (10 ** -5,'average_list_column_80',1)"
   ]
  },
  {
   "cell_type": "code",
   "execution_count": 21,
   "metadata": {},
   "outputs": [
    {
     "data": {
      "application/vnd.jupyter.widget-view+json": {
       "model_id": "47582d8d913a41eda7c98953eb270e20",
       "version_major": 2,
       "version_minor": 0
      },
      "text/plain": [
       "Builder(hide_secondary_metabolites=False, highlight_missing=True, reaction_data={'Biomass': 0.0, 'Biomass__fuc…"
      ]
     },
     "metadata": {},
     "output_type": "display_data"
    }
   ],
   "source": [
    "map_the_RNA_to_model (1/74500,'average_list_column_80',1)"
   ]
  },
  {
   "cell_type": "code",
   "execution_count": 22,
   "metadata": {},
   "outputs": [
    {
     "data": {
      "application/vnd.jupyter.widget-view+json": {
       "model_id": "34b4e2b522034761901dcfd5153fa1d4",
       "version_major": 2,
       "version_minor": 0
      },
      "text/plain": [
       "Builder(hide_secondary_metabolites=False, highlight_missing=True, reaction_data={'Biomass': 0.0, 'Biomass__fuc…"
      ]
     },
     "metadata": {},
     "output_type": "display_data"
    }
   ],
   "source": [
    "map_the_RNA_to_model (1/50000,'average_list_column_80',1)"
   ]
  },
  {
   "cell_type": "code",
   "execution_count": null,
   "metadata": {},
   "outputs": [],
   "source": []
  }
 ],
 "metadata": {
  "kernelspec": {
   "display_name": "Python 3",
   "language": "python",
   "name": "python3"
  },
  "language_info": {
   "codemirror_mode": {
    "name": "ipython",
    "version": 3
   },
   "file_extension": ".py",
   "mimetype": "text/x-python",
   "name": "python",
   "nbconvert_exporter": "python",
   "pygments_lexer": "ipython3",
   "version": "3.6.9"
  },
  "toc": {
   "base_numbering": 1,
   "nav_menu": {},
   "number_sections": true,
   "sideBar": true,
   "skip_h1_title": false,
   "title_cell": "Table of Contents",
   "title_sidebar": "Contents",
   "toc_cell": false,
   "toc_position": {
    "height": "calc(100% - 180px)",
    "left": "10px",
    "top": "150px",
    "width": "303.516px"
   },
   "toc_section_display": true,
   "toc_window_display": true
  },
  "varInspector": {
   "cols": {
    "lenName": 16,
    "lenType": 16,
    "lenVar": 40
   },
   "kernels_config": {
    "python": {
     "delete_cmd_postfix": "",
     "delete_cmd_prefix": "del ",
     "library": "var_list.py",
     "varRefreshCmd": "print(var_dic_list())"
    },
    "r": {
     "delete_cmd_postfix": ") ",
     "delete_cmd_prefix": "rm(",
     "library": "var_list.r",
     "varRefreshCmd": "cat(var_dic_list()) "
    }
   },
   "types_to_exclude": [
    "module",
    "function",
    "builtin_function_or_method",
    "instance",
    "_Feature"
   ],
   "window_display": false
  }
 },
 "nbformat": 4,
 "nbformat_minor": 2
}
